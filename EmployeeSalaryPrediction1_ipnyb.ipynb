{
  "nbformat": 4,
  "nbformat_minor": 0,
  "metadata": {
    "colab": {
      "provenance": []
    },
    "kernelspec": {
      "name": "python3",
      "display_name": "Python 3"
    },
    "language_info": {
      "name": "python"
    }
  },
  "cells": [
    {
      "cell_type": "code",
      "execution_count": 1,
      "metadata": {
        "id": "DMk-_8mhiG5h",
        "colab": {
          "base_uri": "https://localhost:8080/"
        },
        "outputId": "60d67d06-6cd3-4fd8-f55e-efc5ea392851"
      },
      "outputs": [
        {
          "output_type": "stream",
          "name": "stdout",
          "text": [
            "   age     education         occupation  hours-per-week Salary_Range\n",
            "0   25          11th  Machine-op-inspct              40        0-10k\n",
            "1   38       HS-grad    Farming-fishing              50       20-30k\n",
            "2   28    Assoc-acdm    Protective-serv              40       20-30k\n",
            "3   44  Some-college  Machine-op-inspct              40         50k+\n",
            "4   18  Some-college                  ?              30       10-20k\n",
            "5   34          10th      Other-service              30        0-10k\n",
            "6   29       HS-grad                  ?              40       20-30k\n",
            "7   63   Prof-school     Prof-specialty              32       40-50k\n",
            "8   24  Some-college      Other-service              40         50k+\n",
            "9   55       7th-8th       Craft-repair              10        0-10k\n"
          ]
        }
      ],
      "source": [
        "import pandas as pd\n",
        "\n",
        "# Load the dataset\n",
        "df = pd.read_csv(\"/content/adult 3 (1).csv\")\n",
        "\n",
        "# Define a function that assigns salary range based on features\n",
        "def get_salary_band(row):\n",
        "    hours = row['hours-per-week']\n",
        "    edu = row['education']\n",
        "    occ = row['occupation']\n",
        "    age = row['age']\n",
        "    gain = row['capital-gain']\n",
        "    loss = row['capital-loss']\n",
        "\n",
        "    if hours < 25 or edu in ['10th', '11th', '7th-8th']:\n",
        "        return '0-10k'\n",
        "    elif hours < 35 and edu in ['HS-grad', 'Some-college']:\n",
        "        return '10-20k'\n",
        "    elif hours >= 35 and edu in ['HS-grad', 'Assoc-acdm', 'Assoc-voc']:\n",
        "        return '20-30k'\n",
        "    elif hours >= 40 and edu in ['Bachelors'] and occ in ['Tech-support', 'Craft-repair', 'Sales']:\n",
        "        return '30-40k'\n",
        "    elif edu in ['Masters', 'Prof-school', 'Doctorate'] or occ in ['Exec-managerial', 'Prof-specialty']:\n",
        "        return '40-50k'\n",
        "    else:\n",
        "        return '50k+'\n",
        "\n",
        "# Apply the function to the DataFrame\n",
        "df['Salary_Range'] = df.apply(get_salary_band, axis=1)\n",
        "\n",
        "# Drop old income column\n",
        "df.drop('income', axis=1, inplace=True)\n",
        "\n",
        "# Save the new dataset\n",
        "df.to_csv(\"employee_salary_logic_based.csv\", index=False)\n",
        "\n",
        "# Preview\n",
        "print(df[['age', 'education', 'occupation', 'hours-per-week', 'Salary_Range']].head(10))"
      ]
    },
    {
      "cell_type": "code",
      "source": [
        "# Load the dataset\n",
        "data = pd.read_csv(\"employee_salary_logic_based.csv\")\n",
        "data.shape"
      ],
      "metadata": {
        "colab": {
          "base_uri": "https://localhost:8080/"
        },
        "id": "JPKnrH0oj6-Q",
        "outputId": "c177d115-cb96-4131-c680-fc3902dd86ee"
      },
      "execution_count": 2,
      "outputs": [
        {
          "output_type": "execute_result",
          "data": {
            "text/plain": [
              "(48842, 15)"
            ]
          },
          "metadata": {},
          "execution_count": 2
        }
      ]
    },
    {
      "cell_type": "code",
      "source": [
        "#label encoding\n",
        "from sklearn.preprocessing import LabelEncoder\n",
        "encoder=LabelEncoder()\n",
        "\n",
        "import matplotlib.pyplot as plt"
      ],
      "metadata": {
        "id": "xbtXAg3hl62q"
      },
      "execution_count": 3,
      "outputs": []
    },
    {
      "cell_type": "code",
      "source": [
        "#replace ? with others\n",
        "data.replace('?', 'Others', inplace=True)\n",
        "data.to_csv(\"/content/employee_salary_logic_based.csv\", index=False)"
      ],
      "metadata": {
        "id": "R7yRJicpmnPp"
      },
      "execution_count": 4,
      "outputs": []
    },
    {
      "cell_type": "code",
      "source": [
        "print(data['workclass'].value_counts())"
      ],
      "metadata": {
        "colab": {
          "base_uri": "https://localhost:8080/"
        },
        "id": "or98FfYFnkGD",
        "outputId": "c820599c-7ce2-404d-db21-87b54a470ed4"
      },
      "execution_count": 5,
      "outputs": [
        {
          "output_type": "stream",
          "name": "stdout",
          "text": [
            "workclass\n",
            "Private             33906\n",
            "Self-emp-not-inc     3862\n",
            "Local-gov            3136\n",
            "Others               2799\n",
            "State-gov            1981\n",
            "Self-emp-inc         1695\n",
            "Federal-gov          1432\n",
            "Without-pay            21\n",
            "Never-worked           10\n",
            "Name: count, dtype: int64\n"
          ]
        }
      ]
    },
    {
      "cell_type": "code",
      "source": [
        "data=data[data['workclass']!='Without-pay']\n",
        "data=data[data['workclass']!='Never-worked']\n",
        "print(data['workclass'].value_counts())"
      ],
      "metadata": {
        "colab": {
          "base_uri": "https://localhost:8080/"
        },
        "id": "aZd1dlhfn773",
        "outputId": "85c0cb31-cd25-4568-f870-386b700ec0e8"
      },
      "execution_count": 6,
      "outputs": [
        {
          "output_type": "stream",
          "name": "stdout",
          "text": [
            "workclass\n",
            "Private             33906\n",
            "Self-emp-not-inc     3862\n",
            "Local-gov            3136\n",
            "Others               2799\n",
            "State-gov            1981\n",
            "Self-emp-inc         1695\n",
            "Federal-gov          1432\n",
            "Name: count, dtype: int64\n"
          ]
        }
      ]
    },
    {
      "cell_type": "code",
      "source": [
        "data=data[data['educational-num']!=1]\n",
        "print(data['educational-num'].value_counts())"
      ],
      "metadata": {
        "colab": {
          "base_uri": "https://localhost:8080/"
        },
        "id": "XLTtwAbuoF10",
        "outputId": "797f5a10-073d-44f3-b897-8db425166f5d"
      },
      "execution_count": 7,
      "outputs": [
        {
          "output_type": "stream",
          "name": "stdout",
          "text": [
            "educational-num\n",
            "9     15768\n",
            "10    10873\n",
            "13     8025\n",
            "14     2657\n",
            "11     2061\n",
            "7      1809\n",
            "12     1599\n",
            "6      1387\n",
            "4       952\n",
            "15      834\n",
            "5       756\n",
            "8       657\n",
            "16      594\n",
            "3       509\n",
            "2       247\n",
            "Name: count, dtype: int64\n"
          ]
        }
      ]
    },
    {
      "cell_type": "code",
      "source": [
        "data=data[data['marital-status']!='Married-spouse-absent']\n",
        "print(data['marital-status'].value_counts())"
      ],
      "metadata": {
        "colab": {
          "base_uri": "https://localhost:8080/"
        },
        "id": "R0nJd8O8otoo",
        "outputId": "18911336-1536-4efb-cc2b-f7a84206baea"
      },
      "execution_count": 8,
      "outputs": [
        {
          "output_type": "stream",
          "name": "stdout",
          "text": [
            "marital-status\n",
            "Married-civ-spouse    22335\n",
            "Never-married         16066\n",
            "Divorced               6630\n",
            "Separated              1527\n",
            "Widowed                1512\n",
            "Married-AF-spouse        37\n",
            "Name: count, dtype: int64\n"
          ]
        }
      ]
    },
    {
      "cell_type": "code",
      "source": [
        "data=data[data['occupation']!='Priv-house-serv']\n",
        "print(data['occupation'].value_counts())"
      ],
      "metadata": {
        "colab": {
          "base_uri": "https://localhost:8080/"
        },
        "id": "0UmRRtx_pGBx",
        "outputId": "7d8f7195-02c3-4f70-e443-fe194a3322d5"
      },
      "execution_count": 9,
      "outputs": [
        {
          "output_type": "stream",
          "name": "stdout",
          "text": [
            "occupation\n",
            "Prof-specialty       6107\n",
            "Exec-managerial      6032\n",
            "Craft-repair         6028\n",
            "Adm-clerical         5522\n",
            "Sales                5446\n",
            "Other-service        4808\n",
            "Machine-op-inspct    2972\n",
            "Others               2746\n",
            "Transport-moving     2322\n",
            "Handlers-cleaners    2034\n",
            "Tech-support         1437\n",
            "Farming-fishing      1431\n",
            "Protective-serv       976\n",
            "Armed-Forces           15\n",
            "Name: count, dtype: int64\n"
          ]
        }
      ]
    },
    {
      "cell_type": "code",
      "source": [
        "data=data[data['education']!='5th-6th']\n",
        "data=data[data['education']!='1st-4th']\n",
        "data=data[data['education']!='Preschool']"
      ],
      "metadata": {
        "id": "dD8N_DkiqzRe"
      },
      "execution_count": 10,
      "outputs": []
    },
    {
      "cell_type": "code",
      "source": [
        "data.shape"
      ],
      "metadata": {
        "colab": {
          "base_uri": "https://localhost:8080/"
        },
        "id": "SafvJy6orLtz",
        "outputId": "c585ea0d-7571-400c-bba5-15219281ba01"
      },
      "execution_count": 11,
      "outputs": [
        {
          "output_type": "execute_result",
          "data": {
            "text/plain": [
              "(47194, 15)"
            ]
          },
          "metadata": {},
          "execution_count": 11
        }
      ]
    },
    {
      "cell_type": "code",
      "source": [
        "#redundancy\n",
        "\n",
        "data.drop(columns=['education'],inplace=True)"
      ],
      "metadata": {
        "collapsed": true,
        "id": "h1XFc-bSrb9o"
      },
      "execution_count": 12,
      "outputs": []
    },
    {
      "cell_type": "code",
      "source": [
        "from sklearn.preprocessing import LabelEncoder\n",
        "import pickle\n",
        "\n",
        "# Create a dictionary to hold encoders for each column\n",
        "encoders = {}\n",
        "\n",
        "# List of categorical columns to encode\n",
        "categorical_cols = ['workclass', 'marital-status', 'occupation', 'relationship', 'race', 'gender', 'native-country']\n",
        "\n",
        "# Encode each column with a separate LabelEncoder and store the encoder\n",
        "for col in categorical_cols:\n",
        "    le = LabelEncoder()\n",
        "    data[col] = le.fit_transform(data[col])\n",
        "    encoders[col] = le\n",
        "\n",
        "# Save encoders to a file for later decoding in Streamlit UI\n",
        "with open(\"label_encoders.pkl\", \"wb\") as f:\n",
        "    pickle.dump(encoders, f)\n"
      ],
      "metadata": {
        "id": "dzCmYApv0Uj1"
      },
      "execution_count": 13,
      "outputs": []
    },
    {
      "cell_type": "code",
      "source": [
        "data['workclass']=encoder.fit_transform(data['workclass'])\n",
        "data['marital-status']=encoder.fit_transform(data['marital-status'])\n",
        "data['occupation']=encoder.fit_transform(data['occupation'])\n",
        "data['relationship']=encoder.fit_transform(data['relationship'])\n",
        "data['race']=encoder.fit_transform(data['race'])\n",
        "data['gender']=encoder.fit_transform(data['gender'])\n",
        "data['native-country']=encoder.fit_transform(data['native-country'])"
      ],
      "metadata": {
        "id": "jO10yBUeqFoW"
      },
      "execution_count": 14,
      "outputs": []
    },
    {
      "cell_type": "code",
      "source": [
        "plt.boxplot(data['age'])\n",
        "plt.show()"
      ],
      "metadata": {
        "colab": {
          "base_uri": "https://localhost:8080/",
          "height": 430
        },
        "id": "8FjDPmOCpZA5",
        "outputId": "32f737e8-b582-4f86-dfc5-e2ad95546810"
      },
      "execution_count": 17,
      "outputs": [
        {
          "output_type": "display_data",
          "data": {
            "text/plain": [
              "<Figure size 640x480 with 1 Axes>"
            ],
            "image/png": "[encoded data removed]"
          },
          "metadata": {}
        }
      ]
    },
    {
      "cell_type": "code",
      "source": [
        "data=data[(data['age']<=75) & (data['age']>=17)]"
      ],
      "metadata": {
        "id": "zIgybqEus5L1"
      },
      "execution_count": 16,
      "outputs": []
    },
    {
      "cell_type": "code",
      "source": [
        "plt.boxplot(data['fnlwgt'])\n",
        "plt.show()"
      ],
      "metadata": {
        "colab": {
          "base_uri": "https://localhost:8080/",
          "height": 430
        },
        "id": "GrgzSjJ_tHEo",
        "outputId": "112c576c-c5f7-410a-f771-0068797d4de9"
      },
      "execution_count": 20,
      "outputs": [
        {
          "output_type": "display_data",
          "data": {
            "text/plain": [
              "<Figure size 640x480 with 1 Axes>"
            ],
            "image/png": "[encoded data removed]"
          },
          "metadata": {}
        }
      ]
    },
    {
      "cell_type": "code",
      "source": [
        "data = data[(data['fnlwgt'] <= 390000)]"
      ],
      "metadata": {
        "id": "Z5rwgqTJtUKm"
      },
      "execution_count": 19,
      "outputs": []
    },
    {
      "cell_type": "code",
      "source": [
        "plt.boxplot(data['marital-status'])\n",
        "plt.show()"
      ],
      "metadata": {
        "colab": {
          "base_uri": "https://localhost:8080/",
          "height": 430
        },
        "id": "3wdVjrE2vpgO",
        "outputId": "6ade46f3-0b91-46d4-a290-8b71b08cc14c"
      },
      "execution_count": 23,
      "outputs": [
        {
          "output_type": "display_data",
          "data": {
            "text/plain": [
              "<Figure size 640x480 with 1 Axes>"
            ],
            "image/png": "[encoded data removed]"
          },
          "metadata": {}
        }
      ]
    },
    {
      "cell_type": "code",
      "source": [
        "data=data[(data['marital-status']<=4) & (data['marital-status']>=1)]"
      ],
      "metadata": {
        "id": "9LS5Pr-cv1XT"
      },
      "execution_count": 22,
      "outputs": []
    },
    {
      "cell_type": "code",
      "source": [
        "plt.boxplot(data['race'])\n",
        "plt.show()"
      ],
      "metadata": {
        "colab": {
          "base_uri": "https://localhost:8080/",
          "height": 430
        },
        "id": "xZYl9Yovv-Mq",
        "outputId": "13d5e825-49f4-45e9-ea4f-a0d0824ef5d4"
      },
      "execution_count": 26,
      "outputs": [
        {
          "output_type": "display_data",
          "data": {
            "text/plain": [
              "<Figure size 640x480 with 1 Axes>"
            ],
            "image/png": "[encoded data removed]"
          },
          "metadata": {}
        }
      ]
    },
    {
      "cell_type": "code",
      "source": [
        "data=data[(data['race']==4)]"
      ],
      "metadata": {
        "id": "cvm6XULPwKYo"
      },
      "execution_count": 25,
      "outputs": []
    },
    {
      "cell_type": "code",
      "source": [
        "plt.boxplot(data['capital-gain'])\n",
        "plt.show()"
      ],
      "metadata": {
        "colab": {
          "base_uri": "https://localhost:8080/",
          "height": 435
        },
        "id": "GzfbSZZXwujf",
        "outputId": "dc74f1b9-ad9c-421f-cce5-677c2e2fcd81"
      },
      "execution_count": 30,
      "outputs": [
        {
          "output_type": "display_data",
          "data": {
            "text/plain": [
              "<Figure size 640x480 with 1 Axes>"
            ],
            "image/png": "[encoded data removed]"
          },
          "metadata": {}
        }
      ]
    },
    {
      "cell_type": "code",
      "source": [
        "data=data[(data['capital-gain']<=6000)]"
      ],
      "metadata": {
        "id": "mmw7Kjo9w8WB"
      },
      "execution_count": 29,
      "outputs": []
    },
    {
      "cell_type": "code",
      "source": [
        "plt.boxplot(data['capital-loss'])\n",
        "plt.show()"
      ],
      "metadata": {
        "colab": {
          "base_uri": "https://localhost:8080/",
          "height": 430
        },
        "id": "Yla2TF59w268",
        "outputId": "3d08a041-a575-47db-db13-af42808b93c7"
      },
      "execution_count": 33,
      "outputs": [
        {
          "output_type": "display_data",
          "data": {
            "text/plain": [
              "<Figure size 640x480 with 1 Axes>"
            ],
            "image/png": "[encoded data removed]"
          },
          "metadata": {}
        }
      ]
    },
    {
      "cell_type": "code",
      "source": [
        "data=data[(data['capital-loss']<=2500)]"
      ],
      "metadata": {
        "id": "6YDUHawLxS6m"
      },
      "execution_count": 32,
      "outputs": []
    },
    {
      "cell_type": "code",
      "source": [
        "plt.boxplot(data['hours-per-week'])\n",
        "plt.show()"
      ],
      "metadata": {
        "colab": {
          "base_uri": "https://localhost:8080/",
          "height": 430
        },
        "id": "5AaEF1lTxcXh",
        "outputId": "16af089f-fc37-4a34-837d-2a99404e8531"
      },
      "execution_count": 36,
      "outputs": [
        {
          "output_type": "display_data",
          "data": {
            "text/plain": [
              "<Figure size 640x480 with 1 Axes>"
            ],
            "image/png": "[encoded data removed]"
          },
          "metadata": {}
        }
      ]
    },
    {
      "cell_type": "code",
      "source": [
        "data=data[(data['hours-per-week']<=47) & (data['hours-per-week']>=36)]"
      ],
      "metadata": {
        "id": "Jj9utdWixmna"
      },
      "execution_count": 35,
      "outputs": []
    },
    {
      "cell_type": "code",
      "source": [
        "#done removing outliers"
      ],
      "metadata": {
        "id": "_IGbFfjrybY3"
      },
      "execution_count": 37,
      "outputs": []
    },
    {
      "cell_type": "code",
      "source": [
        "data.shape"
      ],
      "metadata": {
        "colab": {
          "base_uri": "https://localhost:8080/"
        },
        "id": "NLTZb1v-ysl6",
        "outputId": "987d0ad5-4dbc-4975-ad2e-a8e0c0346242"
      },
      "execution_count": 38,
      "outputs": [
        {
          "output_type": "execute_result",
          "data": {
            "text/plain": [
              "(17041, 14)"
            ]
          },
          "metadata": {},
          "execution_count": 38
        }
      ]
    },
    {
      "cell_type": "code",
      "source": [
        "x=data.drop(columns=['Salary_Range'])\n",
        "y=data['Salary_Range']"
      ],
      "metadata": {
        "id": "sjlkcNnNzB1A"
      },
      "execution_count": 39,
      "outputs": []
    },
    {
      "cell_type": "code",
      "source": [
        "from sklearn.model_selection import train_test_split\n",
        "xtrain,xtest,ytrain,ytest=train_test_split(x,y,test_size=0.2,random_state=42,stratify=y)\n",
        "#0.2 is 20 perc of testing data, stratify : data eql split"
      ],
      "metadata": {
        "id": "S33SYcTFzH4h"
      },
      "execution_count": 40,
      "outputs": []
    },
    {
      "cell_type": "code",
      "source": [
        "# Machine learning algorithm: Random Forest\n",
        "from sklearn.ensemble import RandomForestClassifier\n",
        "\n",
        "# Initialize the model\n",
        "rf = RandomForestClassifier(random_state=42)\n",
        "\n",
        "# Fit the model with training data\n",
        "rf.fit(xtrain, ytrain)\n",
        "\n",
        "# Predict using the test data\n",
        "predict = rf.predict(xtest)\n",
        "\n",
        "# Show predictions\n",
        "predict"
      ],
      "metadata": {
        "colab": {
          "base_uri": "https://localhost:8080/"
        },
        "id": "2VwMUdt602u2",
        "outputId": "5b6e1e70-c203-4468-fe84-b1807464eb23"
      },
      "execution_count": 41,
      "outputs": [
        {
          "output_type": "execute_result",
          "data": {
            "text/plain": [
              "array(['40-50k', '40-50k', '50k+', ..., '20-30k', '50k+', '20-30k'],\n",
              "      dtype=object)"
            ]
          },
          "metadata": {},
          "execution_count": 41
        }
      ]
    },
    {
      "cell_type": "code",
      "source": [
        "# Import the joblib module\n",
        "import joblib\n",
        "\n",
        "# Save the trained model\n",
        "joblib.dump(rf, 'salary_model.pkl')  # 'rf' is your trained Random Forest model\n",
        "\n",
        "# Save the feature columns used for prediction\n",
        "feature_columns = x.columns.tolist()\n",
        "joblib.dump(feature_columns, 'feature_columns.pkl')\n"
      ],
      "metadata": {
        "colab": {
          "base_uri": "https://localhost:8080/"
        },
        "id": "B1cuXTZH7lQb",
        "outputId": "f6158e83-e82d-4f9a-e7a6-178e84bd5aa0"
      },
      "execution_count": 42,
      "outputs": [
        {
          "output_type": "execute_result",
          "data": {
            "text/plain": [
              "['feature_columns.pkl']"
            ]
          },
          "metadata": {},
          "execution_count": 42
        }
      ]
    },
    {
      "cell_type": "code",
      "source": [
        "from sklearn.metrics import accuracy_score\n",
        "accuracy_score(ytest,predict) #compare predicted value with accurate value\n"
      ],
      "metadata": {
        "colab": {
          "base_uri": "https://localhost:8080/"
        },
        "id": "GYVYLliK1QNB",
        "outputId": "43342f03-5cf1-4ccd-d6c6-e21480276dc3"
      },
      "execution_count": 43,
      "outputs": [
        {
          "output_type": "execute_result",
          "data": {
            "text/plain": [
              "0.9891463772367263"
            ]
          },
          "metadata": {},
          "execution_count": 43
        }
      ]
    },
    {
      "cell_type": "code",
      "source": [
        "from sklearn.metrics import classification_report, confusion_matrix\n",
        "print(classification_report(ytest, predict))\n",
        "print(\"Confusion Matrix:\\n\", confusion_matrix(ytest, predict))\n"
      ],
      "metadata": {
        "colab": {
          "base_uri": "https://localhost:8080/"
        },
        "id": "sayY8sfj7_ad",
        "outputId": "72a6fa7d-5ddd-4b7e-fd19-1a7caa540818"
      },
      "execution_count": 44,
      "outputs": [
        {
          "output_type": "stream",
          "name": "stdout",
          "text": [
            "              precision    recall  f1-score   support\n",
            "\n",
            "       0-10k       0.96      1.00      0.98       258\n",
            "      20-30k       1.00      1.00      1.00      1501\n",
            "      30-40k       0.98      1.00      0.99       146\n",
            "      40-50k       0.98      0.98      0.98       688\n",
            "        50k+       0.99      0.97      0.98       816\n",
            "\n",
            "    accuracy                           0.99      3409\n",
            "   macro avg       0.98      0.99      0.99      3409\n",
            "weighted avg       0.99      0.99      0.99      3409\n",
            "\n",
            "Confusion Matrix:\n",
            " [[ 258    0    0    0    0]\n",
            " [   0 1501    0    0    0]\n",
            " [   0    0  146    0    0]\n",
            " [   3    0    0  674   11]\n",
            " [   9    0    3   11  793]]\n"
          ]
        }
      ]
    },
    {
      "cell_type": "code",
      "source": [],
      "metadata": {
        "id": "zVDuwo4mC4V5"
      },
      "execution_count": null,
      "outputs": []
    },
    {
      "cell_type": "code",
      "metadata": {
        "id": "2eea3177",
        "colab": {
          "base_uri": "https://localhost:8080/"
        },
        "outputId": "6d1fe857-f713-461f-8792-c4f4a902bd83"
      },
      "source": [
        "%pip install -q streamlit pyngrok"
      ],
      "execution_count": 45,
      "outputs": [
        {
          "output_type": "stream",
          "name": "stdout",
          "text": [
            "\u001b[2K     \u001b[90m━━━━━━━━━━━━━━━━━━━━━━━━━━━━━━━━━━━━━━━━\u001b[0m \u001b[32m44.3/44.3 kB\u001b[0m \u001b[31m3.4 MB/s\u001b[0m eta \u001b[36m0:00:00\u001b[0m\n",
            "\u001b[2K   \u001b[90m━━━━━━━━━━━━━━━━━━━━━━━━━━━━━━━━━━━━━━━━\u001b[0m \u001b[32m9.9/9.9 MB\u001b[0m \u001b[31m105.2 MB/s\u001b[0m eta \u001b[36m0:00:00\u001b[0m\n",
            "\u001b[2K   \u001b[90m━━━━━━━━━━━━━━━━━━━━━━━━━━━━━━━━━━━━━━━━\u001b[0m \u001b[32m6.9/6.9 MB\u001b[0m \u001b[31m95.8 MB/s\u001b[0m eta \u001b[36m0:00:00\u001b[0m\n",
            "\u001b[2K   \u001b[90m━━━━━━━━━━━━━━━━━━━━━━━━━━━━━━━━━━━━━━━━\u001b[0m \u001b[32m79.1/79.1 kB\u001b[0m \u001b[31m7.0 MB/s\u001b[0m eta \u001b[36m0:00:00\u001b[0m\n",
            "\u001b[?25h"
          ]
        }
      ]
    },
    {
      "cell_type": "code",
      "metadata": {
        "colab": {
          "base_uri": "https://localhost:8080/"
        },
        "id": "b6fc7e78",
        "outputId": "4a6c1667-684c-41a1-d3c8-ff35397366f9"
      },
      "source": [
        "!ngrok authtoken 302FQDAF82XAaLKKOctewGgWRNn_4DbLYaPBbLSkyabLg4RY"
      ],
      "execution_count": 46,
      "outputs": [
        {
          "output_type": "stream",
          "name": "stdout",
          "text": [
            "Authtoken saved to configuration file: /root/.config/ngrok/ngrok.yml\n"
          ]
        }
      ]
    },
    {
      "cell_type": "code",
      "source": [
        "%%writefile app.py\n",
        "import streamlit as st\n",
        "import pandas as pd\n",
        "import pickle\n",
        "import matplotlib.pyplot as plt\n",
        "import seaborn as sns\n",
        "# Removed LabelEncoder as we will do manual encoding\n",
        "# from sklearn.preprocessing import LabelEncoder\n",
        "import sys # Import sys for error logging\n",
        "import os # Import os for path checking\n",
        "import numpy as np\n",
        "\n",
        "# Load model and feature columns\n",
        "@st.cache_resource\n",
        "def load_model_and_features():\n",
        "    model = None\n",
        "    feature_columns = None\n",
        "    model_loaded = False\n",
        "    try:\n",
        "        # Check if files exist before attempting to load\n",
        "        if not os.path.exists(\"salary_model.pkl\"):\n",
        "            st.error(\"Model file (salary_model.pkl) not found. Please train the model first.\")\n",
        "            return None, None, False\n",
        "        if not os.path.exists(\"feature_columns.pkl\"):\n",
        "             st.error(\"Feature columns file (feature_columns.pkl) not found. Please train the model first.\")\n",
        "             return None, None, False\n",
        "\n",
        "        # Load model and feature columns using joblib as they were saved with joblib\n",
        "        import joblib\n",
        "        model = joblib.load(\"salary_model.pkl\")\n",
        "        feature_columns = joblib.load(\"feature_columns.pkl\")\n",
        "\n",
        "        # Ensure feature_columns is a list of strings\n",
        "        if not isinstance(feature_columns, list) or not all(isinstance(col, str) for col in feature_columns):\n",
        "            st.error(\"Feature columns loaded but not in the expected format (list of strings).\")\n",
        "            return None, None, False\n",
        "\n",
        "        model_loaded = True\n",
        "    except FileNotFoundError:\n",
        "        st.error(\"Model or feature_columns not found. Please train the model first.\")\n",
        "        model_loaded = False\n",
        "    except Exception as e:\n",
        "        st.error(f\"Error loading model or feature columns: {e}\")\n",
        "        model_loaded = False\n",
        "    return model, feature_columns, model_loaded\n",
        "\n",
        "model, feature_columns, model_loaded = load_model_and_features()\n",
        "\n",
        "# Load and clean training data for analysis (only when needed)\n",
        "@st.cache_data\n",
        "def load_and_clean_training_data():\n",
        "    training_data = None\n",
        "    try:\n",
        "        # Check if training data file exists before loading\n",
        "        if not os.path.exists(\"employee_salary_logic_based.csv\"):\n",
        "            st.error(\"Training data file (employee_salary_logic_based.csv) not found for analysis.\")\n",
        "            return None\n",
        "\n",
        "        training_data = pd.read_csv(\"employee_salary_logic_based.csv\")\n",
        "        # Add a check for 'Salary_Range' column immediately after loading\n",
        "        if 'Salary_Range' not in training_data.columns:\n",
        "             st.error(\"Error: 'Salary_Range' column not found in training data file for analysis.\")\n",
        "             return None # Return None if the crucial column is missing\n",
        "        else:\n",
        "            # Replicate the exact cleaning steps from the original notebook\n",
        "            # Check before replace\n",
        "            for col in training_data.columns:\n",
        "                 # Check if column exists and is of object type before replace\n",
        "                 if col in training_data.columns and training_data[col].dtype == 'object':\n",
        "                     training_data[col].replace('?', 'Others', inplace=True)\n",
        "\n",
        "\n",
        "            # Reviewing cleaning steps to ensure '10k-20k' is not filtered out\n",
        "            if 'workclass' in training_data.columns:\n",
        "                # Check for 'workclass' before each filter using it\n",
        "                training_data = training_data[training_data['workclass']!='Without-pay']\n",
        "                training_data = training_data[training_data['workclass']!='Never-worked']\n",
        "            else:\n",
        "                 st.warning(\"'workclass' column not found in training data. Skipping filters for workclass.\")\n",
        "\n",
        "\n",
        "            # Check for 'educational-num' before filtering\n",
        "            if 'educational-num' in training_data.columns:\n",
        "                # Ensure column is numeric before filtering\n",
        "                if pd.api.types.is_numeric_dtype(training_data['educational-num']):\n",
        "                    training_data=training_data[training_data['educational-num']!=1]\n",
        "                else:\n",
        "                    st.warning(\"'educational-num' column is not numeric. Skipping filter for educational-num == 1.\")\n",
        "            else:\n",
        "                st.warning(\"'educational-num' column not found in training data. Skipping filter for educational-num == 1.\")\n",
        "\n",
        "            # Filter based on original 'marital-status' values before encoding\n",
        "            if 'marital-status' in training_data.columns:\n",
        "                 # Check for 'marital-status' before the filter\n",
        "                 training_data = training_data[~training_data['marital-status'].isin(['Married-spouse-absent', 'Ma'])]\n",
        "            else:\n",
        "                 st.warning(\"'marital-status' column not found in training data. Skipping filter for marital-status.\")\n",
        "\n",
        "            if 'occupation' in training_data.columns:\n",
        "                 # Check for 'occupation' before the filter\n",
        "                 training_data = training_data[~training_data['occupation'].isin(['Priv-house-serv', 'Armed-Forces'])] # Corrected filtering for occupation and Armed-Forces\n",
        "            else:\n",
        "                st.warning(\"'occupation' column not found in training data. Skipping filter for occupation.\")\n",
        "\n",
        "\n",
        "            # Filter based on original 'education' values before dropping\n",
        "            if 'education' in training_data.columns:\n",
        "                training_data=training_data[~training_data['education'].isin(['5th-6th', '1st-4th', 'Preschool'])]\n",
        "                 # Drop the 'education' column AFTER filtering\n",
        "                training_data.drop(columns=['education'],inplace=True)\n",
        "            else:\n",
        "                 st.warning(\"'education' column not found in training data. Skipping filter and drop for education.\")\n",
        "\n",
        "            # Note: The 'educational-num' column is kept and used.\n",
        "\n",
        "            # Apply numerical filters based on the ranges determined during training\n",
        "            # These filters seem to be the most likely cause of missing salary ranges\n",
        "            if 'age' in training_data.columns:\n",
        "                # Ensure column is numeric before filtering\n",
        "                if pd.api.types.is_numeric_dtype(training_data['age']):\n",
        "                    training_data=training_data[(training_data['age']<=75) & (training_data['age']>=17)]\n",
        "                else:\n",
        "                     st.warning(\"'age' column is not numeric. Skipping filter for age.\")\n",
        "            else:\n",
        "                st.warning(\"'age' column not found in training data. Skipping filter for age.\")\n",
        "\n",
        "            if 'fnlwgt' in training_data.columns:\n",
        "                 # Ensure column is numeric before filtering\n",
        "                 if pd.api.types.is_numeric_dtype(training_data['fnlwgt']):\n",
        "                    training_data = training_data[(training_data['fnlwgt'] <= 390000)]\n",
        "                 else:\n",
        "                    st.warning(\"'fnlwgt' column is not numeric. Skipping filter for fnlwgt.\")\n",
        "            else:\n",
        "                st.warning(\"'fnlwgt' column not found in training data. Skipping filter for fnlwgt.\")\n",
        "\n",
        "\n",
        "            # Removed the filter based on numeric value 4 for 'race' column\n",
        "            # if 'race' in training_data.columns:\n",
        "            #      # Ensure column is numeric before filtering\n",
        "            #      if pd.api.types.is_numeric_dtype(training_data['race']):\n",
        "            #         training_data = training_data[(training_data['race']==4)] # This filter seems specific, might need review\n",
        "            #      else:\n",
        "            #         st.warning(\"'race' column is not numeric. Skipping filter for race == 4.\")\n",
        "            # else:\n",
        "            #     st.warning(\"'race' column not found in training data. Skipping filter for race == 4.\")\n",
        "\n",
        "\n",
        "            if 'capital-gain' in training_data.columns:\n",
        "                # Ensure column is numeric before filtering\n",
        "                if pd.api.types.is_numeric_dtype(training_data['capital-gain']):\n",
        "                    training_data=training_data[(training_data['capital-gain']<=6000)]\n",
        "                else:\n",
        "                    st.warning(\"'capital-gain' column is not numeric. Skipping filter for capital-gain.\")\n",
        "            else:\n",
        "                 st.warning(\"'capital-gain' column not found in training data. Skipping filter for capital-gain.\")\n",
        "\n",
        "            if 'capital-loss' in training_data.columns:\n",
        "                 # Ensure column is numeric before filtering\n",
        "                 if pd.api.types.is_numeric_dtype(training_data['capital-loss']):\n",
        "                    training_data=training_data[(training_data['capital-loss']<=2500)]\n",
        "                 else:\n",
        "                    st.warning(\"'capital-loss' column is not numeric. Skipping filter for capital-loss.\")\n",
        "\n",
        "            else:\n",
        "                 st.warning(\"'capital-loss' column not found in training data. Skipping filter for capital-loss.\")\n",
        "\n",
        "            # Removed this filter to potentially include data points from lower hour ranges for plotting\n",
        "            # if 'hours-per-week' in training_data.columns:\n",
        "            #      # Ensure column is numeric before filtering\n",
        "            #      if pd.api.types.is_numeric_dtype(training_data['hours-per-week']):\n",
        "            #         training_data=training_data[(training_data['hours-per-week']<=47) & (training_data['hours-per-week']>=36)]\n",
        "            #      else:\n",
        "            #         st.warning(\"'hours-per-week' column is not numeric. Skipping filter for hours-per-week.\")\n",
        "            # else:\n",
        "            #      st.warning(\"'hours-per-week' column not found in training data. Skipping filter for hours-per-week.\")\n",
        "\n",
        "\n",
        "    except FileNotFoundError:\n",
        "        # This block is technically redundant due to os.path.exists checks, but kept for clarity\n",
        "        st.error(\"Training data file (employee_salary_logic_based.csv) not found for analysis.\")\n",
        "        return None\n",
        "    except Exception as e:\n",
        "        st.error(f\"Error loading or processing training data for analysis: {e}\")\n",
        "        return None\n",
        "\n",
        "    return training_data\n",
        "\n",
        "\n",
        "# Define expected categorical columns and their full categories based on original data\n",
        "# These lists should be comprehensive of all possible values including 'Others' if handled.\n",
        "CATEGORICAL_FEATURES = {\n",
        "    'workclass': ['Federal-gov', 'Local-gov', 'Private', 'Self-emp-inc', 'Self-emp-not-inc', 'State-gov', 'Others'], # Removed Without-pay and Never-worked as per notebook cleaning\n",
        "    'marital-status': ['Divorced', 'Married-AF-spouse', 'Married-civ-spouse', 'Never-married', 'Separated', 'Widowed'], # Removed Married-spouse-absent and 'Ma' as per notebook cleaning\n",
        "    'occupation': ['Adm-clerical', 'Craft-repair', 'Exec-managerial', 'Farming-fishing',\n",
        "                   'Handlers-cleaners', 'Machine-op-inspct', 'Other-service', 'Prof-specialty',\n",
        "                   'Protective-serv', 'Sales', 'Tech-support', 'Transport-moving', 'Others'], # Removed Priv-house-serv and Armed-Forces as per notebook cleaning\n",
        "    'relationship': ['Husband', 'Not-in-family', 'Other-relative', 'Own-child', 'Unmarried', 'Wife'],\n",
        "    'race': ['Amer-Indian-Eskimo', 'Asian-Pac-Islander', 'Black', 'Other', 'White'], # Keeping all races here for consistency, though notebook filtered to White\n",
        "    'gender': ['Female', 'Male'],\n",
        "    'native-country': ['Cambodia', 'Canada', 'China', 'Columbia', 'Cuba', 'Dominican-Republic', 'Ecuador', 'El-Salvador', 'England', 'France', 'Germany', 'Greece', 'Guatemala', 'Haiti', 'Honduras', 'Hong', 'Hungary', 'India', 'Iran', 'Ireland', 'Italy', 'Jamaica', 'Japan', 'Laos', 'Mexico', 'Nicaragua', 'Outlying-US(Guam-USVI-Puerto Rico)', 'Peru', 'Philippines', 'Poland', 'Portugal', 'Puerto-Rico', 'Scotland', 'South', 'Taiwan', 'Thailand', 'Trinadad&Tobago', 'United-States', 'Vietnam', 'Yugoslavia', 'Others'] # Keeping all countries here for consistency\n",
        "}\n",
        "\n",
        "\n",
        "# Manual Categorical Encoding\n",
        "def encode_input(df, feature_columns):\n",
        "    if df is None or feature_columns is None:\n",
        "        st.error(\"Input DataFrame or feature columns are None. Cannot encode input.\")\n",
        "        return None\n",
        "\n",
        "    encoded_df = pd.DataFrame(index=df.index) # Create an empty DataFrame to build the encoded data\n",
        "\n",
        "    # Iterate through the columns the model expects\n",
        "    for col in feature_columns:\n",
        "        try:\n",
        "            # Check if the column exists in the input DataFrame\n",
        "            if col in df.columns:\n",
        "                if col in CATEGORICAL_FEATURES: # Expected categorical column\n",
        "                    unseen_value = str(df[col].iloc[0]) # Get the scalar string value\n",
        "\n",
        "                    # Manual lookup of the index\n",
        "                    try:\n",
        "                        encoded_value = CATEGORICAL_FEATURES[col].index(unseen_value)\n",
        "                    except ValueError:\n",
        "                         st.warning(f\"Unseen value '{unseen_value}' in column '{col}'. Mapping to default category (first class).\")\n",
        "                         encoded_value = 0 # Default to the index of the first category\n",
        "\n",
        "                    encoded_df[col] = encoded_df[col] = encoded_value # Corrected assignment here\n",
        "\n",
        "                else: # Numerical column (or other non-categorical expected column)\n",
        "                     # Ensure the column is numeric before assigning\n",
        "                     if pd.api.types.is_numeric_dtype(df[col]):\n",
        "                         encoded_df[col] = df[col]\n",
        "                     else:\n",
        "                         st.warning(f\"Input column '{col}' is not numeric as expected. Assigning default value (0).\")\n",
        "                         encoded_df[col] = 0 # Assign a default value if not numeric\n",
        "\n",
        "            else:\n",
        "                # If the column is in feature_columns but not in input_df,\n",
        "                # add it to encoded_df with a default value (e.g., 0) to avoid errors later.\n",
        "                # This assumes 0 is a safe default or will be handled by the model.\n",
        "                st.warning(f\"Feature column '{col}' not found in input data. Adding with default value (0).\")\n",
        "                encoded_df[col] = 0 # Assign a default value\n",
        "\n",
        "        except Exception as e:\n",
        "            st.error(f\"Error processing column '{col}' during encoding: {e}\")\n",
        "            # Log the full traceback for detailed debugging\n",
        "            import traceback\n",
        "            st.error(traceback.format_exc())\n",
        "            return None # Indicate failure\n",
        "\n",
        "    # Ensure the final DataFrame has columns in the exact order expected by the model\n",
        "    # Reindex to make sure all columns are present and in the correct order\n",
        "    # This step is crucial even with the loop above, as it guarantees the order.\n",
        "    # Fill any potentially missing columns after processing with 0\n",
        "    encoded_df = encoded_df.reindex(columns=feature_columns, fill_value=0)\n",
        "\n",
        "\n",
        "    return encoded_df[feature_columns]\n",
        "\n",
        "\n",
        "# Suggestion generator\n",
        "def generate_suggestions(user_input):\n",
        "    suggestions = []\n",
        "    # Access user input from the DataFrame row\n",
        "    user_row = user_input.iloc[0]\n",
        "\n",
        "    # Check educational-num based on the numerical value\n",
        "    if 'educational-num' in user_row and user_row['educational-num'] < 13:\n",
        "        suggestions.append(\"📘 Consider pursuing higher education to qualify for better-paying roles.\")\n",
        "    if 'hours-per-week' in user_row and user_row['hours-per-week'] < 40:\n",
        "        suggestions.append(\"⏱️ Increase your weekly working hours to improve visibility and earnings.\")\n",
        "    if 'capital-gain' in user_row and user_row['capital-gain'] == 0:\n",
        "        suggestions.append(\"📈 Explore investment or side income opportunities to boost financial standing.\")\n",
        "    # Check occupation based on the string value\n",
        "    if 'occupation' in user_row and user_row['occupation'] in ['Priv-house-serv', 'Other-service']:\n",
        "        suggestions.append(\"💼 Consider shifting to professional/technical domains for better salaries.\")\n",
        "    if 'age' in user_row and user_row['age'] < 25:\n",
        "        suggestions.append(\"⏳ With more experience and time, your earning potential is likely to increase.\")\n",
        "\n",
        "\n",
        "    return suggestions\n",
        "\n",
        "\n",
        "# Set up UI\n",
        "st.set_page_config(page_title=\"Employee Salary Prediction\", layout=\"wide\")\n",
        "\n",
        "\n",
        "st.title(\"💼 Employee Salary Prediction System\")\n",
        "st.markdown(\"Enter employee details below to predict their salary range.\")\n",
        "\n",
        "# Create sidebars\n",
        "st.sidebar.header(\"User Input Features\")\n",
        "st.sidebar.markdown(\"Adjust the values below to predict salary.\")\n",
        "\n",
        "\n",
        "# Smart Input Form in the left sidebar\n",
        "def user_input_features(feature_columns):\n",
        "    # Ensure these features and their order match the feature_columns from training\n",
        "    # Check if feature_columns is loaded before creating widgets\n",
        "    if feature_columns is None:\n",
        "        st.error(\"Feature columns not loaded. Cannot display input form.\")\n",
        "        return None\n",
        "\n",
        "    # Define input widgets based on expected features\n",
        "    input_data_dict = {}\n",
        "\n",
        "    for col in feature_columns:\n",
        "        try:\n",
        "            if col == 'age':\n",
        "                input_data_dict[col] = st.sidebar.slider(\"Age\", 17, 75, 30)\n",
        "            elif col in CATEGORICAL_FEATURES:\n",
        "                options = CATEGORICAL_FEATURES[col]\n",
        "                # Ensure selected value is a string\n",
        "                input_data_dict[col] = str(st.sidebar.selectbox(col.replace('-', ' ').title(), options))\n",
        "            elif col == 'fnlwgt':\n",
        "                 input_data_dict[col] = st.sidebar.number_input(\"Final Weight (fnlwgt)\", min_value=10000, max_value=390000, value=50000)\n",
        "            elif col == 'educational-num':\n",
        "                input_data_dict[col] = st.sidebar.slider(\"Education Level (numeric)\", 2, 16, 10)\n",
        "            elif col == 'capital-gain':\n",
        "                input_data_dict[col] = st.sidebar.number_input(\"Capital Gain\", min_value=0, max_value=6000, value=0)\n",
        "            elif col == 'capital-loss':\n",
        "                input_data_dict[col] = st.sidebar.number_input(\"Capital Loss\", min_value=0, max_value=2500, value=0)\n",
        "            elif col == 'hours-per-week':\n",
        "                # Increased the upper bound to match the logic in the original notebook's salary banding function\n",
        "                input_data_dict[col] = st.sidebar.slider(\"Hours per Week\", 1, 99, 40)\n",
        "            # Add more elif blocks for other numerical features if needed\n",
        "        except Exception as e:\n",
        "            st.error(f\"Error creating input widget for column '{col}': {e}\")\n",
        "            # Log the full traceback for detailed debugging\n",
        "            import traceback\n",
        "            st.error(traceback.format_exc())\n",
        "            return None # Indicate failure if widget creation fails\n",
        "\n",
        "\n",
        "    # Create DataFrame with the correct column names and order\n",
        "    if input_data_dict:\n",
        "        input_data = pd.DataFrame([input_data_dict])\n",
        "        # Ensure the DataFrame has all feature_columns, even if some widgets were skipped (fill with default 0)\n",
        "        input_data = input_data.reindex(columns=feature_columns, fill_value=0)\n",
        "        return input_data\n",
        "    else:\n",
        "        return None\n",
        "\n",
        "\n",
        "# Get user input\n",
        "input_df = user_input_features(feature_columns)\n",
        "\n",
        "# Predict Button\n",
        "if model_loaded and input_df is not None and st.button(\"🔮 Predict Salary Range\"):\n",
        "    encoded_df = encode_input(input_df.copy(), feature_columns)\n",
        "\n",
        "    # Check if encoding was successful and columns match before predicting\n",
        "    if encoded_df is not None and list(encoded_df.columns) == feature_columns:\n",
        "        # Make prediction using the loaded model and encoded input\n",
        "        try:\n",
        "            prediction = model.predict(encoded_df)[0]\n",
        "            st.success(f\"✅ Predicted Salary Range: **{prediction}**\")\n",
        "\n",
        "            # Display Suggestions on the main screen (Moved before Data Analysis)\n",
        "            st.subheader(\"📌Personalized Suggestions to Improve Salary:\")\n",
        "            suggestions = generate_suggestions(input_df) # Pass the input_df DataFrame\n",
        "            if suggestions:\n",
        "                for s in suggestions:\n",
        "                    st.markdown(f\"- {s}\")\n",
        "            else:\n",
        "                st.info(\"Based on your input, you are in a good position. Keep up the great work!\")\n",
        "\n",
        "\n",
        "            # Load and display Data Analysis section (Moved after Suggestions)\n",
        "            training_data = load_and_clean_training_data() # Load and clean data here\n",
        "\n",
        "            if training_data is not None:\n",
        "                st.header(\"📊 Where You Stand Compared to Others\")\n",
        "                # Calculate salary range percentages\n",
        "                if 'Salary_Range' in training_data.columns:\n",
        "                     if not training_data['Salary_Range'].empty:\n",
        "                        salary_counts = training_data['Salary_Range'].value_counts().sort_index()\n",
        "                        total_count = salary_counts.sum()\n",
        "                        salary_percentages = (salary_counts / total_count) * 100\n",
        "\n",
        "                        st.markdown(\"This graph shows the distribution of salary ranges and highlights your predicted range.\")\n",
        "\n",
        "                        # Combined Salary Range Distribution Graph (Salary Range Counts)\n",
        "                        fig_salary, ax_salary = plt.subplots(figsize=(10, 6)) # Increased figure size\n",
        "                        bars = ax_salary.bar(salary_percentages.index, salary_percentages.values, color='lightgray')\n",
        "\n",
        "                        # Create a list of salary ranges in the desired order for percentage calculation and plotting\n",
        "                        salary_order = ['0-10k', '10-20k', '20-30k', '30-40k', '40-50k', '50k+']\n",
        "\n",
        "                        # Highlight the predicted salary range bar in RED\n",
        "                        try:\n",
        "                            # Use the defined salary_order for finding the index\n",
        "                            predicted_index = salary_order.index(prediction)\n",
        "                            # Ensure the salary range exists in the current plot data before attempting to color\n",
        "                            if prediction in salary_percentages.index:\n",
        "                                bar_index_in_plot = salary_percentages.index.get_loc(prediction)\n",
        "                                bars[bar_index_in_plot].set_color('red')\n",
        "                                bars[bar_index_in_plot].set_label('Your Predicted Range')\n",
        "                                ax_salary.legend()\n",
        "                            else:\n",
        "                                st.warning(f\"Predicted salary range '{prediction}' not found in the current training data distribution for highlighting.\")\n",
        "\n",
        "\n",
        "                            # Add percentage text on top of bars\n",
        "                            for bar in bars:\n",
        "                                yval = bar.get_height()\n",
        "                                plt.text(bar.get_x() + bar.get_width()/2.0, yval, f'{yval:.1f}%', va='bottom', ha='center', fontsize=9) # Adjusted text position\n",
        "\n",
        "                        except ValueError:\n",
        "                             st.warning(f\"Predicted salary range '{prediction}' not in the defined salary order list. Cannot highlight or calculate relative standing accurately.\")\n",
        "                             # Add percentage text on top of all bars even if predicted range not in order\n",
        "                             for bar in bars:\n",
        "                                yval = bar.get_height()\n",
        "                                plt.text(bar.get_x() + bar.get_width()/2.0, yval, f'{yval:.1f}%', va='bottom', ha='center', fontsize=9)\n",
        "\n",
        "\n",
        "                        ax_salary.set_xlabel(\"Salary Range\")\n",
        "                        ax_salary.set_ylabel(\"Percentage of People\") # Changed label to Percentage\n",
        "                        ax_salary.set_title(\"Distribution of Salary Ranges (%)\") # Updated title\n",
        "                        plt.tight_layout()\n",
        "                        st.pyplot(fig_salary)\n",
        "                        plt.close(fig_salary)\n",
        "\n",
        "                        # Display \"LeetCode style\" percentage information\n",
        "                        st.subheader(\"Your Standing:\")\n",
        "                        try:\n",
        "                            # Ensure prediction is in the salary_order list before calculating index\n",
        "                            if prediction in salary_order:\n",
        "                                predicted_percentage = salary_percentages.get(prediction, 0) # Use .get to handle cases where predicted range might not be in filtered data\n",
        "                                st.write(f\"Your predicted salary range ('{prediction}') includes approximately **{predicted_percentage:.1f}%** of the people globally.\")\n",
        "\n",
        "                                # Calculate and display percentage of people with higher salaries\n",
        "                                # Use salary_order for consistent comparison\n",
        "                                higher_salary_ranges = [sr for sr in salary_order if salary_order.index(sr) > salary_order.index(prediction)]\n",
        "                                if higher_salary_ranges:\n",
        "                                    # Sum percentages for ranges in higher_salary_ranges, handle potential missing keys\n",
        "                                    cumulative_higher_percentage = salary_percentages[salary_percentages.index.isin(higher_salary_ranges)].sum()\n",
        "\n",
        "                                    # Calculate percentage of people with lower or equal salaries\n",
        "                                    lower_or_equal_salary_ranges = [sr for sr in salary_order if salary_order.index(sr) <= salary_order.index(prediction)]\n",
        "                                    cumulative_lower_or_equal_percentage = salary_percentages[salary_percentages.index.isin(lower_or_equal_salary_ranges)].sum()\n",
        "\n",
        "\n",
        "                                    st.write(f\"You are in a higher salary range than approximately **{(cumulative_lower_or_equal_percentage - predicted_percentage):.1f}%** of the people.\")\n",
        "                                    st.write(f\"Approximately **{cumulative_higher_percentage:.1f}%** of the people have a higher salary range than yours.\")\n",
        "                                else:\n",
        "                                    st.write(\"Your predicted salary range is the highest among the defined ranges.\")\n",
        "                            else:\n",
        "                                st.warning(f\"Predicted salary range '{prediction}' not in the defined salary order list. Cannot calculate relative standing accurately.\")\n",
        "\n",
        "\n",
        "                        except KeyError:\n",
        "                            st.warning(f\"Predicted salary range '{prediction}' not found in calculated percentages for detailed standing analysis.\")\n",
        "                        except ValueError:\n",
        "                            st.warning(\"Could not determine the position of your predicted salary range in the ordered list for detailed standing analysis.\")\n",
        "\n",
        "\n",
        "                     else:\n",
        "                        st.warning(\"'Salary_Range' column in training data is empty. Skipping plotting salary distribution and percentage analysis.\")\n",
        "\n",
        "                else:\n",
        "                    st.warning(\"'Salary_Range' column not found in training data for plotting and percentage analysis.\")\n",
        "\n",
        "\n",
        "                # Add Age and Hours per Week by Salary Range Grouped Bar Chart\n",
        "                if all(col in training_data.columns for col in ['age', 'hours-per-week', 'Salary_Range']):\n",
        "                    st.subheader(\"Average Age and Hours per Week by Salary Range\")\n",
        "                    try:\n",
        "                        # Ensure columns are numeric and not empty before grouping\n",
        "                        if (pd.api.types.is_numeric_dtype(training_data['age']) and\n",
        "                            pd.api.types.is_numeric_dtype(training_data['hours-per-week']) and\n",
        "                            'Salary_Range' in training_data.columns and\n",
        "                            not training_data[['age', 'hours-per-week', 'Salary_Range']].empty):\n",
        "\n",
        "                            # Group by Salary_Range and calculate the mean age and hours per week\n",
        "                            grouped_data = training_data.groupby('Salary_Range')[['age', 'hours-per-week']].mean().reset_index()\n",
        "\n",
        "                            # Melt the DataFrame for easier plotting with seaborn\n",
        "                            melted_data = grouped_data.melt(id_vars='Salary_Range', var_name='Metric', value_name='Average Value')\n",
        "\n",
        "                            # Create a list of salary ranges in the desired order for plotting\n",
        "                            salary_order = ['0-10k', '10-20k', '20-30k', '30-40k', '40-50k', '50k+']\n",
        "                            # Ensure the melted data's Salary_Range column is a categorical type with the desired order\n",
        "                            melted_data['Salary_Range'] = pd.Categorical(melted_data['Salary_Range'], categories=salary_order, ordered=True)\n",
        "                            # Sort the melted data by the categorical Salary_Range for correct plotting order\n",
        "                            melted_data = melted_data.sort_values('Salary_Range')\n",
        "\n",
        "\n",
        "                            fig_grouped_bar, ax_grouped_bar = plt.subplots(figsize=(10, 6))\n",
        "\n",
        "                            # Plot the grouped bar chart\n",
        "                            sns.barplot(data=melted_data, x='Salary_Range', y='Average Value', hue='Metric', ax=ax_grouped_bar, palette='viridis')\n",
        "\n",
        "                            ax_grouped_bar.set_xlabel(\"Salary Range\")\n",
        "                            ax_grouped_bar.set_ylabel(\"Average Value\")\n",
        "                            ax_grouped_bar.set_title(\"Average Age and Hours per Week by Salary Range\")\n",
        "                            plt.xticks(rotation=45, ha='right') # Rotate labels for better readability\n",
        "                            plt.tight_layout()\n",
        "                            st.pyplot(fig_grouped_bar)\n",
        "                            plt.close(fig_grouped_bar)\n",
        "                        else:\n",
        "                            st.warning(\"Required numerical or Salary_Range columns in training data are not suitable or are empty for plotting Average Age and Hours per Week.\")\n",
        "\n",
        "                    except Exception as e:\n",
        "                        st.error(f\"An error occurred while plotting Average Age and Hours per Week: {e}\")\n",
        "                        import traceback\n",
        "                        st.error(traceback.format_exc())\n",
        "                else:\n",
        "                    st.warning(\"Required columns (age, hours-per-week, Salary_Range) not found in training data for plotting Average Age and Hours per Week.\")\n",
        "\n",
        "\n",
        "                # Removed individual feature plots as per user request\n",
        "\n",
        "            st.sidebar.subheader(\"Analysis for your input:\")\n",
        "            if input_df is not None:\n",
        "                st.sidebar.write(input_df)\n",
        "            else:\n",
        "                st.sidebar.write(\"Input data could not be processed.\")\n",
        "\n",
        "        except Exception as e:\n",
        "            st.error(f\"An error occurred during prediction, plotting, or suggestion generation: {e}\")\n",
        "            # Log the full traceback for detailed debugging\n",
        "            import traceback\n",
        "            st.error(traceback.format_exc()) # Added traceback logging here too\n",
        "\n",
        "\n",
        "    else:\n",
        "        st.error(\"Error during feature encoding or column mismatch. Cannot predict.\")"
      ],
      "metadata": {
        "id": "oVNiUguHzVGd",
        "colab": {
          "base_uri": "https://localhost:8080/"
        },
        "outputId": "7986da58-5738-43c0-e715-2e9c47077b89"
      },
      "execution_count": 47,
      "outputs": [
        {
          "output_type": "stream",
          "name": "stdout",
          "text": [
            "Writing app.py\n"
          ]
        }
      ]
    },
    {
      "cell_type": "code",
      "source": [
        "!pip install streamlit pyngrok --quiet\n",
        "from pyngrok import ngrok\n"
      ],
      "metadata": {
        "collapsed": true,
        "id": "VOIJAGMT9mAl"
      },
      "execution_count": 48,
      "outputs": []
    },
    {
      "cell_type": "code",
      "source": [
        "ngrok.kill()  # Prevents \"port already in use\" errors\n",
        "public_url = ngrok.connect(8501)\n",
        "print(f\"Streamlit is live at 👉 {public_url}\")\n"
      ],
      "metadata": {
        "colab": {
          "base_uri": "https://localhost:8080/"
        },
        "id": "qzDP0_9u-6ms",
        "outputId": "d2900f41-c261-4b62-a7d6-bc69c89f529c"
      },
      "execution_count": 49,
      "outputs": [
        {
          "output_type": "stream",
          "name": "stdout",
          "text": [
            "Streamlit is live at 👉 NgrokTunnel: \"https://4e346faa8ec7.ngrok-free.app\" -> \"http://localhost:8501\"\n"
          ]
        }
      ]
    },
    {
      "cell_type": "code",
      "source": [
        "!streamlit run app.py &> /dev/null &\n"
      ],
      "metadata": {
        "id": "3PjRkzjn9mBY"
      },
      "execution_count": 50,
      "outputs": []
    }
  ]
}